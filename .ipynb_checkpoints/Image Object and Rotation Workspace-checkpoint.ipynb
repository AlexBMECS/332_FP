{
 "cells": [
  {
   "cell_type": "code",
   "execution_count": 1,
   "metadata": {},
   "outputs": [],
   "source": [
    "import numpy as np\n",
    "import cv2 as cv\n",
    "import pandas as pd\n",
    "from matplotlib import pyplot as plt\n",
    "%matplotlib inline\n",
    "from matplotlib.pyplot import figure\n",
    "import matplotlib.image as mpimg\n",
    "import math\n",
    "import time\n",
    "from scipy import ndimage\n",
    "#import edge_detection from edge_detectionhttp://localhost:8888/notebooks/332_FP/Image%20Object%20and%20Rotation%20Workspace.ipynb#\n",
    "from read_image import image_read"
   ]
  },
  {
   "cell_type": "code",
   "execution_count": 2,
   "metadata": {},
   "outputs": [],
   "source": [
    "class Piece:\n",
    "    def _init_(color, rot_arr):\n",
    "        \n",
    "        #rot_arr: -1  = inward piece\n",
    "        #          0  = flat edge\n",
    "        #          1  = outward piece\n",
    "        #first cell is top edge, next continues clockwise\n",
    "        #\n",
    "        self.color = color\n",
    "        self.rot_arr = rot_arr\n",
    "        self.edges = edge_detection(color, 50, 150)\n",
    "        \n",
    "        zero_count = 0 \n",
    "        for x in range(len(rot_arr)):\n",
    "            if(rot_arr[x] == 0):\n",
    "                zero_count += 1\n",
    "                \n",
    "        if(zero_count == 2):\n",
    "            self.typ = \"corner\"\n",
    "        elif(zero_count == 1):\n",
    "            self.typ  = \"edge\"\n",
    "        else:\n",
    "            self.typ = \"inner\"    \n",
    "        \n",
    "    \n",
    "def rotate(img):\n",
    "        rows,cols = img.shape\n",
    "        M = cv.getRotationMatrix2D((cols/2,rows/2),-90,1)\n",
    "        dst = cv.warpAffine(img,M,(cols,rows))  \n",
    "            \n",
    "        return dst"
   ]
  },
  {
   "cell_type": "code",
   "execution_count": null,
   "metadata": {},
   "outputs": [],
   "source": [
    "t = image_read(\"test.bmp\")\n",
    "plt.imshow(t, cmap = plt.get_cmap('gray'))\n",
    "plt.show()\n",
    "\n",
    "tn = rgb2gray(t)\n",
    "new = rotate(tn)\n",
    "plt.imshow(new, cmap = plt.get_cmap('gray'))\n",
    "plt.show()"
   ]
  },
  {
   "cell_type": "code",
   "execution_count": null,
   "metadata": {},
   "outputs": [],
   "source": [
    "def rgb2gray(rgb):\n",
    "    return np.dot(rgb[...,:3], [0.299, 0.587, 0.114])"
   ]
  },
  {
   "cell_type": "code",
   "execution_count": null,
   "metadata": {},
   "outputs": [],
   "source": [
    "newt = cv.Canny(tn,100,200)\n",
    "plt.show()"
   ]
  },
  {
   "cell_type": "code",
   "execution_count": null,
   "metadata": {},
   "outputs": [],
   "source": [
    "tn = rgb2gray(t)"
   ]
  },
  {
   "cell_type": "code",
   "execution_count": 5,
   "metadata": {},
   "outputs": [
    {
     "data": {
      "image/png": "[encoded data removed]",
      "text/plain": [
       "<Figure size 432x288 with 1 Axes>"
      ]
     },
     "metadata": {},
     "output_type": "display_data"
    }
   ],
   "source": [
    "t = image_read(\"test.bmp\")\n",
    "t =  t[750:1750,750:1750,:]\n",
    "tn = cv.cvtColor(t,cv.COLOR_BGR2GRAY)\n",
    "dim = tn.shape\n",
    "\n",
    "for x in range(dim[0]):\n",
    "    for y in range(dim[1]):\n",
    "        if(tn[x,y]>40):\n",
    "            tn[x,y] = 255\n",
    "        else:\n",
    "            tn[x,y] = 0\n",
    "kernel = cv.getStructuringElement(cv.MORPH_RECT,(20,20))\n",
    "closing = cv.morphologyEx(tn, cv.MORPH_CLOSE, kernel)\n",
    "opening = cv.morphologyEx(closing, cv.MORPH_OPEN, kernel)\n",
    "plt.imshow(opening, cmap = plt.get_cmap('gray'))\n",
    "plt.show()"
   ]
  },
  {
   "cell_type": "code",
   "execution_count": 6,
   "metadata": {},
   "outputs": [],
   "source": [
    "def CCL(file):\n",
    "    \n",
    "    def find_min(e_table, number):\n",
    "        t = np.where(e_table[number] == 1)\n",
    "        return t[0][0]\n",
    "\n",
    "    #Pass 1\n",
    "    img = file\n",
    "    I = img[:,:]/(255)\n",
    "    I = I.astype(int)\n",
    "\n",
    "    dim = list(I.shape)\n",
    "    newimg = np.zeros(dim)\n",
    "    newimg = newimg.astype(int)\n",
    "    e_table = np.identity(4500)\n",
    "    L=1\n",
    "\n",
    "    for row in range(dim[0]):\n",
    "        for col in range(dim[1]):\n",
    "            pixel = I[row,col]\n",
    "            if(pixel == 1):\n",
    "                upper = newimg[row-1,col]\n",
    "                left = newimg[row,col-1]\n",
    "                if(upper == 0):\n",
    "                    if(left == 0):\n",
    "                        newimg[row,col] = L\n",
    "                        L+=1\n",
    "                    else:\n",
    "                        newimg[row,col] = max(left,upper)\n",
    "                if(upper != 0):\n",
    "                    if(left == 0):\n",
    "                        newimg[row,col] = max(left,upper)\n",
    "                    elif(left == upper):\n",
    "                        newimg[row,col] = upper\n",
    "                    else:\n",
    "                        newimg[row,col] = min(left,upper)\n",
    "                        e_table[max(left,upper)][min(left,upper)] = 1\n",
    "\n",
    "\n",
    "    #Pass 2\n",
    "    for u in range(dim[0],0,-1):\n",
    "        t = np.where(e_table[u] == 1)\n",
    "        p = t[0][0]\n",
    "        newimg[np.where(newimg == u)] = p\n",
    "        \n",
    "    #Size Filtration\n",
    "    uni = []\n",
    "    for u, row in enumerate(newimg):\n",
    "        for v, pixel in enumerate(row):\n",
    "            if pixel not in uni and pixel != 0:\n",
    "                uni.append(pixel)\n",
    "\n",
    "    u,counts = np.unique(newimg, return_counts = True)\n",
    "    ucount = np.asarray((u, counts)).T\n",
    "\n",
    "    remove = []\n",
    "    for idx, count in enumerate(counts):\n",
    "        if count < 10:\n",
    "            remove.append(u[idx])\n",
    "\n",
    "    for u, row in enumerate(newimg):\n",
    "        for v, pixel in enumerate(row):\n",
    "            if pixel != 0 and pixel in remove:\n",
    "                newimg[u][v] = 0\n",
    "\n",
    "    for rowID in range(len(img)):\n",
    "        for colID in range(len(img[0])):\n",
    "            img[rowID][colID] = (newimg[rowID][colID]*70)%255\n",
    "            \n",
    "\n",
    "    plt.imshow(img)\n",
    "    plt.show()\n",
    "    return newimg,len(np.unique(newimg))\n"
   ]
  },
  {
   "cell_type": "code",
   "execution_count": null,
   "metadata": {},
   "outputs": [],
   "source": [
    "CCL(opening)"
   ]
  },
  {
   "cell_type": "code",
   "execution_count": null,
   "metadata": {},
   "outputs": [],
   "source": [
    "tn[0,0]= 256"
   ]
  },
  {
   "cell_type": "code",
   "execution_count": null,
   "metadata": {},
   "outputs": [],
   "source": [
    "gray = cv.cvtColor(t,cv.COLOR_BGR2GRAY)\n",
    "plt.imshow(gray, cmap = plt.get_cmap('gray'))\n",
    "plt.show()"
   ]
  },
  {
   "cell_type": "code",
   "execution_count": null,
   "metadata": {},
   "outputs": [],
   "source": [
    "max(gray[0])"
   ]
  },
  {
   "cell_type": "code",
   "execution_count": null,
   "metadata": {},
   "outputs": [],
   "source": [
    "\n",
    "\n",
    "ret, labels = cv.connectedComponents(opening, connectivity = 8)\n",
    "\n",
    "# Map component labels to hue val\n",
    "label_hue = np.uint8(179*labels/np.max(labels))\n",
    "blank_ch = 255*np.ones_like(label_hue)\n",
    "labeled_img = cv.merge([label_hue, blank_ch, blank_ch])\n",
    "\n",
    "# cvt to BGR for display\n",
    "labeled_img = cv.cvtColor(labeled_img, cv.COLOR_HSV2BGR)\n",
    "\n",
    "# set bg label to black\n",
    "labeled_img[label_hue==0] = 0\n",
    "\n",
    "plt.imshow('labeled.png', ret)\n",
    "plt.show()"
   ]
  },
  {
   "cell_type": "code",
   "execution_count": null,
   "metadata": {},
   "outputs": [],
   "source": [
    "opening = cv.morphologyEx(closing, cv.MORPH_OPEN, kernel)\n",
    "plt.imshow(opening, cmap = plt.get_cmap('gray'))\n",
    "plt.show()"
   ]
  },
  {
   "cell_type": "code",
   "execution_count": null,
   "metadata": {},
   "outputs": [],
   "source": [
    "plt.imshow(tn, cmap = plt.get_cmap('gray'))\n",
    "plt.show()"
   ]
  },
  {
   "cell_type": "code",
   "execution_count": null,
   "metadata": {},
   "outputs": [],
   "source": [
    "kernel = cv.getStructuringElement(cv.MORPH_RECT,(20,20))\n",
    "closing = cv.morphologyEx(tn, cv.MORPH_CLOSE, kernel)\n",
    "plt.imshow(closing, cmap = plt.get_cmap('gray'))\n",
    "plt.show()"
   ]
  },
  {
   "cell_type": "code",
   "execution_count": null,
   "metadata": {},
   "outputs": [],
   "source": []
  }
 ],
 "metadata": {
  "kernelspec": {
   "display_name": "Python 3",
   "language": "python",
   "name": "python3"
  },
  "language_info": {
   "codemirror_mode": {
    "name": "ipython",
    "version": 3
   },
   "file_extension": ".py",
   "mimetype": "text/x-python",
   "name": "python",
   "nbconvert_exporter": "python",
   "pygments_lexer": "ipython3",
   "version": "3.6.5"
  }
 },
 "nbformat": 4,
 "nbformat_minor": 2
}
