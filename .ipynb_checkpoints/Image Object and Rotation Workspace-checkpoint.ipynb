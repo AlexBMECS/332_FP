{
 "cells": [
  {
   "cell_type": "code",
   "execution_count": 30,
   "metadata": {},
   "outputs": [],
   "source": [
    "import numpy as np\n",
    "import cv2 as cv\n",
    "import pandas as pd\n",
    "from matplotlib import pyplot as plt\n",
    "%matplotlib inline\n",
    "np.set_printoptions(threshold=np.inf)\n",
    "from matplotlib.pyplot import figure\n",
    "import matplotlib.image as mpimg\n",
    "import math\n",
    "import time\n",
    "from scipy import ndimage\n",
    "#import edge_detection from edge_detection\n",
    "from read_image import image_read"
   ]
  },
  {
   "cell_type": "code",
   "execution_count": 36,
   "metadata": {},
   "outputs": [],
   "source": [
    "class Piece:\n",
    "    def _init_(color, rot_arr):\n",
    "        \n",
    "        #rot_arr: -1  = inward piece\n",
    "        #          0  = flat edge\n",
    "        #          1  = outward piece\n",
    "        #first cell is top edge, next continues clockwise\n",
    "        #\n",
    "        self.color = color\n",
    "        self.rot_arr = rot_arr\n",
    "        self.edges = edge_detection(color, 50, 150)\n",
    "        \n",
    "        zero_count = 0 \n",
    "        for x in range(len(rot_arr)):\n",
    "            if(rot_arr[x] == 0):\n",
    "                zero_count += 1\n",
    "                \n",
    "        if(zero_count == 2):\n",
    "            self.typ = \"corner\"\n",
    "        elif(zero_count == 1):\n",
    "            self.typ  = \"edge\"\n",
    "        else:\n",
    "            self.typ = \"inner\"    \n",
    "        \n",
    "    \n",
    "def rotate(img):\n",
    "        rows,cols = img.shape\n",
    "        M = cv.getRotationMatrix2D((cols/2,rows/2),-90,1)\n",
    "        dst = cv.warpAffine(img,M,(cols,rows))  \n",
    "            \n",
    "        return dst"
   ]
  },
  {
   "cell_type": "code",
   "execution_count": 44,
   "metadata": {},
   "outputs": [
    {
     "data": {
      "image/png": "[encoded data removed]",
      "text/plain": [
       "<Figure size 432x288 with 1 Axes>"
      ]
     },
     "metadata": {},
     "output_type": "display_data"
    },
    {
     "data": {
      "text/plain": [
       "\"tn = rgb2gray(t)\\nnew = rotate(tn)\\nplt.imshow(new, cmap = plt.get_cmap('gray'))\\nplt.show()\""
      ]
     },
     "execution_count": 44,
     "metadata": {},
     "output_type": "execute_result"
    }
   ],
   "source": [
    "t = image_read(\"test.png\")\n",
    "plt.imshow(t, cmap = plt.get_cmap('gray'))\n",
    "plt.show()\n",
    "'''tn = rgb2gray(t)\n",
    "new = rotate(tn)\n",
    "plt.imshow(new, cmap = plt.get_cmap('gray'))\n",
    "plt.show()'''"
   ]
  },
  {
   "cell_type": "code",
   "execution_count": 34,
   "metadata": {},
   "outputs": [],
   "source": [
    "def rgb2gray(rgb):\n",
    "    return np.dot(rgb[...,:3], [0.299, 0.587, 0.114])"
   ]
  },
  {
   "cell_type": "code",
   "execution_count": null,
   "metadata": {},
   "outputs": [],
   "source": []
  },
  {
   "cell_type": "code",
   "execution_count": null,
   "metadata": {},
   "outputs": [],
   "source": []
  }
 ],
 "metadata": {
  "kernelspec": {
   "display_name": "Python 3",
   "language": "python",
   "name": "python3"
  },
  "language_info": {
   "codemirror_mode": {
    "name": "ipython",
    "version": 3
   },
   "file_extension": ".py",
   "mimetype": "text/x-python",
   "name": "python",
   "nbconvert_exporter": "python",
   "pygments_lexer": "ipython3",
   "version": "3.6.5"
  }
 },
 "nbformat": 4,
 "nbformat_minor": 2
}
